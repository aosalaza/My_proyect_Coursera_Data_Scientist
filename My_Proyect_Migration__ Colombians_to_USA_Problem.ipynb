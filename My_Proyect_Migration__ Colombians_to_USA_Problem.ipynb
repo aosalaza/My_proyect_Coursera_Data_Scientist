{
 "cells": [
  {
   "cell_type": "markdown",
   "metadata": {},
   "source": [
    "# PROBLEM & BACKGROUND\n",
    "\n",
    "### Hispanics have played a significant role in driving U.S. population growth over the past decade, though the group is not growing as quickly as it once did. From 2010 to 2019, the U.S. population increased by 18.9 million, and Hispanics accounted for more than half (52%) of this growth, according to a Pew Research Center analysis of new U.S. Census Bureau population estimates, the last before 2020 census figures are released..\n",
    "\n",
    "### The United States has been the quintessential destination for Latin American migrants. The latest report from the Pew Research Center, based on the U.S. Census Bureau's American Community Survey (ACS), revealed that Colombia is the seventh largest Spanish-speaking population in the United States.The study, which is based on 2017 figures, took into account the entire Spanish-speaking population in the United States and concentrated on the 15 largest groups, taking as a reference the ACS results in 2010, 2015 and 2017. There were 58.83 million Spanish speakers in the United States, of which 36.63 million were Mexican. It is no wonder that Mexico has a border with the United States, and transit to the neighbouring country is less cumbersome than for other inhabitants of the region.In 2000, the Colombian population was 502,000 in the United States and by 2017 that figure had risen to 1.24 million, a 148% increase in 17 years. Florida (31%), New York (14%) and New Jersey (12%) are the states with the highest concentration of Colombians.\n",
    "\n",
    "### As a Colombian citizen I will help my compatriots to choose where to migrate specifically to Florida by comparing through different characteristics (demographics, places, neighborhood, language, security, etc.) the cities of Orlando and Miami. \n",
    "\n",
    "\n"
   ]
  }
 ],
 "metadata": {
  "kernelspec": {
   "display_name": "Python",
   "language": "python",
   "name": "conda-env-python-py"
  },
  "language_info": {
   "codemirror_mode": {
    "name": "ipython",
    "version": 3
   },
   "file_extension": ".py",
   "mimetype": "text/x-python",
   "name": "python",
   "nbconvert_exporter": "python",
   "pygments_lexer": "ipython3",
   "version": "3.6.11"
  }
 },
 "nbformat": 4,
 "nbformat_minor": 4
}
